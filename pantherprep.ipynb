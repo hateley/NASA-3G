{
 "cells": [
  {
   "cell_type": "code",
   "execution_count": 18,
   "metadata": {
    "collapsed": false
   },
   "outputs": [
    {
     "name": "stdout",
     "output_type": "stream",
     "text": [
      "1513\n"
     ]
    }
   ],
   "source": [
    "#prep all genes for GO pathway analysis in PANTHER\n",
    "\n",
    "import csv\n",
    "\n",
    "datafile = 'deseq2_sig.05_3G1G.csv'\n",
    "with open('genes.csv','w') as out:\n",
    "\n",
    "    def csv_iterator(datafile):\n",
    "        \"\"\"Reads 1 row at a time from a csv file, yielding a dict with keys from the header row.\n",
    "        Adds an 'id' field if there's not one.\"\"\"\n",
    "        rownum = 1\n",
    "        for doc in csv.DictReader(open(datafile, 'rU')):\n",
    "            id = doc.get('id', str(rownum))\n",
    "            doc['id'] = id\n",
    "            rownum += 1\n",
    "            yield doc\n",
    "\n",
    "    if __name__ == \"__main__\":\n",
    "        genename = []\n",
    "        fchange = []\n",
    "        for doc in csv_iterator(datafile):\n",
    "            genename.append(doc['gene'])\n",
    "            fchange.append(doc['log2FoldChange'])\n",
    "        out.write('\\n'.join(genename))\n",
    "        print len(genename)\n"
   ]
  },
  {
   "cell_type": "code",
   "execution_count": null,
   "metadata": {
    "collapsed": true
   },
   "outputs": [],
   "source": []
  }
 ],
 "metadata": {
  "kernelspec": {
   "display_name": "Python 2",
   "language": "python",
   "name": "python2"
  },
  "language_info": {
   "codemirror_mode": {
    "name": "ipython",
    "version": 2
   },
   "file_extension": ".py",
   "mimetype": "text/x-python",
   "name": "python",
   "nbconvert_exporter": "python",
   "pygments_lexer": "ipython2",
   "version": "2.7.10"
  }
 },
 "nbformat": 4,
 "nbformat_minor": 0
}
