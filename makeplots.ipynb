{
 "cells": [
  {
   "cell_type": "code",
   "execution_count": null,
   "metadata": {
    "collapsed": false
   },
   "outputs": [],
   "source": [
    "#!/usr/bin/env python\n",
    "\n",
    "\"\"\"\n",
    "Takes output from DESeq2 and makes pretty plots / analysis of the output.\n",
    "For reference I can use:\n",
    "http://pandas.pydata.org/pandas-docs/stable/visualization.html\n",
    "http://www.labri.fr/perso/nrougier/teaching/matplotlib/#bar-plots\n",
    "\"\"\"\n",
    "\n",
    "%matplotlib inline\n",
    "\n",
    "import pandas as pd\n",
    "import numpy as np\n",
    "import matplotlib.pyplot as plt\n",
    "import seaborn as sns\n",
    "sns.set(context=\"paper\", font=\"monospace\")"
   ]
  },
  {
   "cell_type": "markdown",
   "metadata": {
    "collapsed": false
   },
   "source": [
    "#####may not do this section but just in case here is the beginning of it. otherwise proceed to male/female...\n",
    "####bar plot of gene families\n",
    "####read in categories of functions\n",
    "functions_table = pd.read_csv(\"pathway_analysis/categories_panther.csv\")\n",
    "functions_table.shape\n",
    "####read in larger panther analysis file to merge unassigned genes with categorized genes\n",
    "panther_table = pd.read_csv(\"pathway_analysis/panther/Panther_degenes_3G1G.csv\")\n",
    "panther_table.shape\n",
    "functions= pd.merge(functions_table, panther_table, how=\"outer\", on=[\"gene\"])\n",
    "functions.shape\n",
    "####functions.to_csv(\"pathway_analysis/panther/all_functions.csv\")\n",
    "category_count = pd.Series(functions[\"category\"])\n",
    "categories = category_count.value_counts()\n",
    "print(categories)\n",
    "print(sum(categories))"
   ]
  },
  {
   "cell_type": "markdown",
   "metadata": {
    "collapsed": false
   },
   "source": [
    "#Male to Female bias check:"
   ]
  },
  {
   "cell_type": "code",
   "execution_count": null,
   "metadata": {
    "collapsed": false
   },
   "outputs": [],
   "source": [
    "#read in DESeq2 output for my samples and add fbgn names\n",
    "deseq_df = pd.read_csv(\"DESeq2/deseq2_sig.05_3G1G.csv\")\n",
    "header_row=['gene','fbgene']\n",
    "fbgn = pd.read_table(\"sample_stats/symbols_and_transcripts.tsv\", names=header_row)\n",
    "diff_df = pd.merge(deseq_df, fbgn, how='left', on='gene')\n",
    "#read in male/female miccroarray data from PMID: 19216785 paper\n",
    "mf_comp = pd.read_excel(\"sample_stats/male_fem_comparison/sex_time_difff.xls\", sheetname=3, header=3)\n",
    "mf_comp = mf_comp.rename(columns = {'FBGN' : 'fbgene'})"
   ]
  },
  {
   "cell_type": "code",
   "execution_count": null,
   "metadata": {
    "collapsed": false
   },
   "outputs": [],
   "source": [
    "mf_comp.columns"
   ]
  },
  {
   "cell_type": "code",
   "execution_count": null,
   "metadata": {
    "collapsed": false
   },
   "outputs": [],
   "source": [
    "#check that no genes are missing fbgene names\n",
    "mask=False\n",
    "for col in diff_df.columns: mask = mask | diff_df['fbgene'].isnull()\n",
    "dfnulls = diff_df[mask]\n",
    "print(dfnulls)"
   ]
  },
  {
   "cell_type": "code",
   "execution_count": null,
   "metadata": {
    "collapsed": false
   },
   "outputs": [],
   "source": [
    "mf_genes = pd.merge(diff_df, mf_comp, how='inner', on='fbgene')\n",
    "mf_genes.drop(mf_genes.columns[[1,3,4,5,6,9,11,12]], axis=1, inplace=True)\n",
    "mf_genes[['Fold Change (M/F)']] = mf_genes[['Fold Change (M/F)']].astype(float)\n",
    "#mf_genes.columns"
   ]
  },
  {
   "cell_type": "code",
   "execution_count": null,
   "metadata": {
    "collapsed": false
   },
   "outputs": [],
   "source": [
    "print(mf_genes.shape)\n",
    "mf_genes.sort(columns='Sex-bias', ascending=False, inplace=True)\n",
    "mf_gene = mf_genes.set_index('gene')\n",
    "mf_gene.index.name = None\n",
    "mf_gene"
   ]
  },
  {
   "cell_type": "code",
   "execution_count": null,
   "metadata": {
    "collapsed": true
   },
   "outputs": [],
   "source": [
    "import matplotlib.patches as mpatches"
   ]
  },
  {
   "cell_type": "code",
   "execution_count": null,
   "metadata": {
    "collapsed": false
   },
   "outputs": [],
   "source": [
    "#bar plot of m/f expression\n",
    "#plot the data\n",
    "color_list = ['orange','g']\n",
    "ax = mf_gene[['log2FoldChange','Fold Change (M/F)']].plot(kind='bar', color=color_list, title =\"Sex-specific gene expression\",figsize=(15,10), fontsize=16)\n",
    "ax.set_ylabel(\"fold change\",fontsize=12)\n",
    "#plot 0 line black\n",
    "plt.axhline(0, color='k')\n",
    "#make the legend\n",
    "orange = mpatches.Patch(color='orange', label='3G samples')\n",
    "green = mpatches.Patch(color='green', label='sex specific')\n",
    "red = mpatches.Patch(color='pink', label= 'female genes')\n",
    "blue = mpatches.Patch(color='blue', label= 'male genes', alpha = 0.2)\n",
    "plt.legend(loc='upper left', shadow=True, fontsize='x-large', handles=[orange,green,blue,red], frameon=True)\n",
    "#add shading to the background\n",
    "a = -1\n",
    "b = 4.5\n",
    "plt.axvspan(a, b, color = 'blue', alpha=0.2)\n",
    "c = 4.5\n",
    "d = 20\n",
    "plt.axvspan(c, d, color = 'pink', alpha=0.4)\n",
    "#save and plot figure\n",
    "plt.savefig('highres.pdf')\n",
    "plt.show()"
   ]
  },
  {
   "cell_type": "code",
   "execution_count": null,
   "metadata": {
    "collapsed": false
   },
   "outputs": [],
   "source": []
  },
  {
   "cell_type": "code",
   "execution_count": null,
   "metadata": {
    "collapsed": false
   },
   "outputs": [],
   "source": [
    "mf_genes.groupby('Sex-bias')[['log2FoldChange','Fold Change (M/F)']].corr(method='pearson')"
   ]
  },
  {
   "cell_type": "code",
   "execution_count": null,
   "metadata": {
    "collapsed": false
   },
   "outputs": [],
   "source": [
    "#look at sex-specific genes for male or female at sample level\n",
    "sample_counts = pd.read_table(\"DESeq2/merged_counts_eXpress_TPM100_genelevel.tsv\")\n",
    "samples = pd.merge(sample_counts, fbgn, how='left', on='gene')\n",
    "samples.head()"
   ]
  },
  {
   "cell_type": "code",
   "execution_count": null,
   "metadata": {
    "collapsed": false
   },
   "outputs": [],
   "source": [
    "mf_bysamples = pd.merge(samples, mf_comp, how='inner', on='fbgene')"
   ]
  },
  {
   "cell_type": "code",
   "execution_count": null,
   "metadata": {
    "collapsed": false
   },
   "outputs": [],
   "source": [
    "mf_bysamples.shape"
   ]
  },
  {
   "cell_type": "code",
   "execution_count": null,
   "metadata": {
    "collapsed": false
   },
   "outputs": [],
   "source": [
    "mf_bysamples.sort(columns='Sex-bias', ascending=False, inplace=True)\n",
    "mf_bysamples.head()"
   ]
  },
  {
   "cell_type": "code",
   "execution_count": null,
   "metadata": {
    "collapsed": true
   },
   "outputs": [],
   "source": [
    "male_specific = mf_bysamples[(mf_bysamples['Sex-bias'] == 'Male-biased')]\n",
    "female_specific = mf_bysamples[(mf_bysamples['Sex-bias'] == 'Female-biased')]"
   ]
  },
  {
   "cell_type": "code",
   "execution_count": null,
   "metadata": {
    "collapsed": false
   },
   "outputs": [],
   "source": [
    "#I'm exporting this to excel for laziness in barplot production\n",
    "print(male_specific.sum())\n",
    "print(female_specific.sum())"
   ]
  },
  {
   "cell_type": "code",
   "execution_count": null,
   "metadata": {
    "collapsed": false
   },
   "outputs": [],
   "source": [
    "male_specific.sum()"
   ]
  },
  {
   "cell_type": "markdown",
   "metadata": {
    "collapsed": true
   },
   "source": [
    "#Stress comparison:\n",
    "\n",
    "I am comparing the 3G DE to the various stressor induced DE from the paper, \"Diversity and dynamics of the Drosophila transcriptome\" and showing that 3G ellicits a unique response. \n",
    "\n",
    "I would like to generate a heat map comparing the values.\n",
    "\n",
    "#####Here are my notes from the preliminary comparison:\n",
    "Do the effects resemble common stress effects? Do they resemble any of the other stressors more than other? Which genes / pathways are specific to 3G?\n",
    "\n",
    "“we find a homogeneous response to environmental stressors\"\n",
    "\n",
    "Direction of change is consistent across all treatments\n",
    "\n",
    "\n",
    "\n",
    "Upregulated:\n",
    "Response to Stimulus, GO:0050896\n",
    "Lyzosymes ( >10fold)\n",
    "cytochrome P450s\n",
    "mitochontrial components mt:ATPase6, mt:CoI, mt:CoIII\n",
    "\n",
    "Downregulated:\n",
    "egg-shell, yolk, seminal fluid except in heatshock and cold2 treatments because collection was too early for these late response genes (so mine will also be downregulated)\n",
    "\n",
    "At home: open and look for these above groups in the file: “Panther DE genes 3G1G in the pathway analysis folder. make a new spreadsheet in the stress comparison folder quantifying the relationships between our genes and the stress genes from the Brown study. Think up the best way to visualize the results so that tomorrow I can make a table and write up the findings to email to Ravi.\n",
    "\n",
    "\n",
    "NEXT: color code based upon pos or neg\n",
    "\n",
    "RESULTS:\n",
    "782 significant genes in our study were also reported in the Brown stress study\n",
    "\n",
    "Resp. to Stim. genes:\n",
    "7 found in .05 group: LysD, Fst, Tequila, DopEcR, Hsp67Bb, Rdl, Cyp6a8\n",
    "4 upregulated, but Rdl and DopEcr are both -0.8, Cyp6a2 is -1. Not too far from 0\n",
    "\n",
    "Downregulated genes: not in sig list\n",
    "\n",
    "Lysosomal genes were upregulated but don’t appear to be so in the other paper.\n",
    "Cy P450 genes are both up and down regulated."
   ]
  },
  {
   "cell_type": "code",
   "execution_count": null,
   "metadata": {
    "collapsed": false
   },
   "outputs": [],
   "source": [
    "#read in excel spreadsheet of 3G genes also found in stress study\n",
    "stress_genes = pd.read_excel(\"stress comparison/matching_genes.xlsx\")\n",
    "stress_genes.drop(stress_genes.columns[[2]], axis=1, inplace=True)\n",
    "#read in functions for 3G genes to merge with stress data file\n",
    "functions = pd.read_csv('pathway_analysis/panther/Panther_degenes_3G1G.csv')\n",
    "functions.drop(functions.columns[[1,2,3,4,5,6,7,8,9,10]], axis=1, inplace=True)"
   ]
  },
  {
   "cell_type": "code",
   "execution_count": null,
   "metadata": {
    "collapsed": false
   },
   "outputs": [],
   "source": [
    "#merge these files together and clean them up\n",
    "stress_df = pd.merge(stress_genes, functions, how='left', on='gene')\n",
    "stress_df = stress_df.set_index('gene')\n",
    "stress_df.index.name = None\n",
    "stress_df.drop(stress_df.columns[[2,4,6,8,10,12,14,16,18,20,22]], axis=1, inplace=True)"
   ]
  },
  {
   "cell_type": "code",
   "execution_count": null,
   "metadata": {
    "collapsed": false
   },
   "outputs": [],
   "source": [
    "fold_change = stress_df.ix[:,:'Zn_4.5mM Fold Change']\n",
    "fold_change.head()"
   ]
  },
  {
   "cell_type": "code",
   "execution_count": null,
   "metadata": {
    "collapsed": false
   },
   "outputs": [],
   "source": [
    "#stress_df.to_csv('stress_comparison.csv')\n",
    "#fold_change.describe()\n",
    "dfFC = fold_change.replace(1, np.nan)\n",
    "dfFC.head()"
   ]
  },
  {
   "cell_type": "code",
   "execution_count": null,
   "metadata": {
    "collapsed": false
   },
   "outputs": [],
   "source": [
    "correlation = dfFC.corr(method='spearman')\n",
    "#correlation.to_csv('stress comparison/stress_spearman.csv')"
   ]
  },
  {
   "cell_type": "code",
   "execution_count": null,
   "metadata": {
    "collapsed": false
   },
   "outputs": [],
   "source": [
    "sns.heatmap(fold_change, vmax=10, vmin=-10, yticklabels=False)"
   ]
  },
  {
   "cell_type": "code",
   "execution_count": null,
   "metadata": {
    "collapsed": false
   },
   "outputs": [],
   "source": []
  },
  {
   "cell_type": "code",
   "execution_count": null,
   "metadata": {
    "collapsed": false
   },
   "outputs": [],
   "source": [
    "sns.heatmap(dfFC, vmax=10, vmin=-10, yticklabels=False)"
   ]
  },
  {
   "cell_type": "code",
   "execution_count": null,
   "metadata": {
    "collapsed": false
   },
   "outputs": [],
   "source": [
    "spear = fold_change.corr(method='spearman')\n",
    "\n",
    "clustmap = sns.clustermap(spear)\n",
    "clustmap.savefig('clustermap.png')"
   ]
  },
  {
   "cell_type": "code",
   "execution_count": null,
   "metadata": {
    "collapsed": false
   },
   "outputs": [],
   "source": [
    "spear = dfFC.corr(method='spearman')\n",
    "\n",
    "clustmap = sns.clustermap(spear)\n",
    "clustmap.savefig('clustermap.pdf')  #this one is used in the paper"
   ]
  },
  {
   "cell_type": "code",
   "execution_count": null,
   "metadata": {
    "collapsed": false
   },
   "outputs": [],
   "source": [
    "#let's see if I can duplicate the heatmap in the celnicker paper\n",
    "celnicker = pd.read_excel('stress comparison/Supplementary table 9.xlsx')\n",
    "celnicker = celnicker.set_index('Gene_Name')\n",
    "celnicker.index.name = None\n",
    "celnicker.drop(celnicker.columns[[1,3,5,7,9,11,13,15,17,19,21]], axis=1, inplace=True)"
   ]
  },
  {
   "cell_type": "code",
   "execution_count": null,
   "metadata": {
    "collapsed": false
   },
   "outputs": [],
   "source": [
    "celnicker.head()"
   ]
  },
  {
   "cell_type": "code",
   "execution_count": null,
   "metadata": {
    "collapsed": false
   },
   "outputs": [],
   "source": [
    "sns.heatmap(celnicker, vmax=10, vmin=-10)"
   ]
  },
  {
   "cell_type": "markdown",
   "metadata": {
    "collapsed": false
   },
   "source": [
    "###Counting genes in categories\n",
    "I am counting up the genes that have been categorized to check that each gene has been used once and that no genes are missing."
   ]
  },
  {
   "cell_type": "code",
   "execution_count": null,
   "metadata": {
    "collapsed": false
   },
   "outputs": [],
   "source": [
    "#read in csv sheets for the various gene categories\n",
    "defense = pd.read_excel(\"manuscript/Supplemental_table1.xlsx\", sheetname=6, header=0)\n",
    "defense['category'] = 'defense'\n",
    "binding = pd.read_excel(\"manuscript/Supplemental_table1.xlsx\", sheetname=16, header=0)\n",
    "binding['category'] = 'binding'\n",
    "cuticle = pd.read_excel(\"manuscript/Supplemental_table1.xlsx\", sheetname=8, header=0)\n",
    "cuticle['category'] = 'cuticle'\n",
    "metabolic = pd.read_excel(\"manuscript/Supplemental_table1.xlsx\", sheetname=17, header=0)\n",
    "metabolic['category'] = 'metabolic'\n",
    "other = pd.read_excel(\"manuscript/Supplemental_table1.xlsx\", sheetname=18, header=0)\n",
    "other['category'] = 'other'\n",
    "oxidoreductase = pd.read_excel(\"manuscript/Supplemental_table1.xlsx\", sheetname=7, header=0)\n",
    "oxidoreductase['category'] = 'redox'\n",
    "proteolysis = pd.read_excel(\"manuscript/Supplemental_table1.xlsx\", sheetname=13, header=0)\n",
    "proteolysis['category'] = 'proteolysis'\n",
    "ribosome = pd.read_excel(\"manuscript/Supplemental_table1.xlsx\", sheetname=14, header=0)\n",
    "ribosome['category'] = 'translation'\n",
    "transferase = pd.read_excel(\"manuscript/Supplemental_table1.xlsx\", sheetname=15, header=0)\n",
    "transferase['category'] = 'transferase'\n",
    "transport = pd.read_excel(\"manuscript/Supplemental_table1.xlsx\", sheetname=9, header=0)\n",
    "transport['category'] = 'transport'\n",
    "sodium = pd.read_excel(\"manuscript/Supplemental_table1.xlsx\", sheetname=10, header=0)\n",
    "sodium['category'] = 'sodium'\n",
    "potassium = pd.read_excel(\"manuscript/Supplemental_table1.xlsx\", sheetname=11, header=0)\n",
    "potassium['category'] = 'potassium'\n",
    "calcium = pd.read_excel(\"manuscript/Supplemental_table1.xlsx\", sheetname=12, header=0)\n",
    "calcium['category'] = 'calcium'\n",
    "uncharacterized = pd.read_excel(\"manuscript/Supplemental_table1.xlsx\", sheetname=19, header=0)\n",
    "uncharacterized['category'] = 'uncharacterized'"
   ]
  },
  {
   "cell_type": "code",
   "execution_count": null,
   "metadata": {
    "collapsed": false
   },
   "outputs": [],
   "source": [
    "#combine sheets into one table of categories\n",
    "frames = [defense, binding, cuticle, metabolic, other, oxidoreductase, proteolysis, ribosome, transferase, transport, sodium, potassium, calcium, uncharacterized]\n",
    "categories = pd.concat(frames)"
   ]
  },
  {
   "cell_type": "code",
   "execution_count": null,
   "metadata": {
    "collapsed": false
   },
   "outputs": [],
   "source": [
    "categories.shape"
   ]
  },
  {
   "cell_type": "code",
   "execution_count": null,
   "metadata": {
    "collapsed": false
   },
   "outputs": [],
   "source": [
    "#count how many genes are in each group\n",
    "group_count = pd.Series(categories[\"category\"])\n",
    "counts = (group_count.value_counts())\n",
    "print(counts)"
   ]
  },
  {
   "cell_type": "code",
   "execution_count": null,
   "metadata": {
    "collapsed": false
   },
   "outputs": [],
   "source": [
    "#check to see if any genes are duplicated\n",
    "genes = categories[\"GENE\"]\n",
    "categories[genes.isin(genes[genes.duplicated()])].sort(\"GENE\")\n",
    "#all checks out, so the list is complete!"
   ]
  },
  {
   "cell_type": "code",
   "execution_count": null,
   "metadata": {
    "collapsed": false
   },
   "outputs": [],
   "source": [
    "#combine the categories with the total results output by DESeq2\n",
    "#for a single csv of results\n",
    "de_df = pd.read_excel(\"manuscript/Supplemental_table1.xlsx\", sheetname=1, header=0)"
   ]
  },
  {
   "cell_type": "code",
   "execution_count": null,
   "metadata": {
    "collapsed": false
   },
   "outputs": [],
   "source": [
    "categories = categories.rename(columns = {'GENE' : 'Gene', 'MOLECULAR FUNCTION' : 'GO_molecular_function', 'BIOLOGICAL PROCESS' : 'GO_biological_process'})\n",
    "#combined_df = pd.merge(de_df, categories, on='Gene', how='left')\n",
    "#combined_df.drop(combined_df.columns[[8,9]], axis=1, inplace=True)"
   ]
  },
  {
   "cell_type": "code",
   "execution_count": null,
   "metadata": {
    "collapsed": false
   },
   "outputs": [],
   "source": [
    "#combined_df.head()\n",
    "combined_df.shape\n",
    "combined_df.describe()"
   ]
  },
  {
   "cell_type": "code",
   "execution_count": null,
   "metadata": {
    "collapsed": false
   },
   "outputs": [],
   "source": [
    "#combined_df.to_csv('All_DE_genes.tsv', sep='\\t')"
   ]
  },
  {
   "cell_type": "code",
   "execution_count": null,
   "metadata": {
    "collapsed": false
   },
   "outputs": [],
   "source": [
    "#use this code as a work around for errors like:\n",
    "#UnicodeEncodeError: 'ascii' codec can't encode character u'\\xa0' in position\n",
    "\n",
    "#import sys\n",
    "#reload(sys)\n",
    "#sys.setdefaultencoding(\"utf8\")"
   ]
  },
  {
   "cell_type": "code",
   "execution_count": null,
   "metadata": {
    "collapsed": false
   },
   "outputs": [],
   "source": [
    "#output other files into tsv format\n",
    "primers = pd.read_excel(\"manuscript/Supplemental_table1.xlsx\", sheetname=21, header=0)\n",
    "primers = primers[np.isfinite(primers['SL_no'])]\n",
    "stress_comparison = pd.read_excel(\"manuscript/Supplemental_table1.xlsx\", sheetname=22, header=0)\n",
    "eclosion_rates = pd.read_excel(\"manuscript/Supplemental_table1.xlsx\", sheetname=23, header=1)\n",
    "read_details = pd.read_excel(\"manuscript/Supplemental_table1.xlsx\", sheetname=24, header=0)\n",
    "software_details = pd.read_excel(\"manuscript/Supplemental_table1.xlsx\", sheetname=25, header=0)"
   ]
  },
  {
   "cell_type": "code",
   "execution_count": null,
   "metadata": {
    "collapsed": false
   },
   "outputs": [],
   "source": [
    "primers.to_csv('primers.txt', sep='\\t')\n",
    "stress_comparison.to_csv('stress_comparison.txt', sep='\\t')\n",
    "eclosion_rates.to_csv('eclosion_rates.txt', sep='\\t')\n",
    "read_details.to_csv('read_details.txt', sep='\\t')\n",
    "software_details.to_csv('software_details.txt', sep='\\t')\n"
   ]
  },
  {
   "cell_type": "code",
   "execution_count": null,
   "metadata": {
    "collapsed": false
   },
   "outputs": [],
   "source": [
    "jh = categories[categories['GO_molecular_function'].str.contains('serine')] | categories['category'] == 'proteolysis'\n",
    "jh"
   ]
  },
  {
   "cell_type": "code",
   "execution_count": null,
   "metadata": {
    "collapsed": false
   },
   "outputs": [],
   "source": [
    "categories.columns"
   ]
  },
  {
   "cell_type": "code",
   "execution_count": null,
   "metadata": {
    "collapsed": true
   },
   "outputs": [],
   "source": [
    "\n"
   ]
  }
 ],
 "metadata": {
  "kernelspec": {
   "display_name": "Python 2",
   "language": "python",
   "name": "python2"
  },
  "language_info": {
   "codemirror_mode": {
    "name": "ipython",
    "version": 2
   },
   "file_extension": ".py",
   "mimetype": "text/x-python",
   "name": "python",
   "nbconvert_exporter": "python",
   "pygments_lexer": "ipython2",
   "version": "2.7.10"
  }
 },
 "nbformat": 4,
 "nbformat_minor": 0
}
