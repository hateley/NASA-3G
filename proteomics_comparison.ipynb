{
 "cells": [
  {
   "cell_type": "markdown",
   "metadata": {},
   "source": [
    "# LC-MS/MS to mRNA-Seq comparison\n",
    "\n",
    "#### Overview of LC-MS/MS data\n",
    "    \n",
    "    * When you do LC-MS/MS:\n",
    "        1. Sample is separated in the liquid/solid filter (LC) then ionized and emitted out to the mass spec. This measures mass/charge (m/z) ratio. The second MS is for the ions that look interesting and get diverted and broken up into constituent parts which are then also measured for m/z ratio.\n",
    "        2. The output is a tic plot which has a chromatogram of peaks of all the ions as measured in intensity across time emitted from the LC. Some of these peaks contain the MS/MS plot of m/z charge for those ions broken up.\n",
    "        3. The program Proteome Discoverer uses a reference protein database to convert these chromatogram MS/MS plots into an msf file which contains the filtered peptide spectral matches from our sample to the reference database.\n",
    "        \n",
    "        \"The Proteins page lists all the identified proteins and the associated peptides found in a sample during a search. You can examine the search results in terms of protein identification, as well as access more details about the peptide identifications and corresponding information from the search input. The Proteins page gives you detailed tabular information, a shortcut menu, and access to the peptide information.\"\n",
    "        \n",
    "        \n",
    "####Our data:\n",
    "    \n",
    "    * 42,840 proteins detected\n",
    "    \n",
    "    \n",
    "####Comparison Steps:\n",
    "    1. Nomenclature of genes must be the same across datasets\n",
    "        match genes to proteins using fbgn_NAseq_Uniprot_fb_2015_04.tsv\n",
    "    2. Compare total # of proteins to total # of transcripts\n",
    "    3. Compare # of de proteins to # of de transcripts\n",
    "    4. Are highly expressed proteins also highly expressed mRNAs? \n",
    "        * rember this is regardless of DE between conditions\n",
    "    5. Spearman correlation for highly expressed\n",
    "        * are outliers similar to Palmblad findings?\n",
    "            (ρ 0.14, outliers ribosomal, histones, vitellogens)\n",
    "    6. Does ρ improve within significant groups like cuticular?"
   ]
  },
  {
   "cell_type": "code",
   "execution_count": 21,
   "metadata": {
    "collapsed": false
   },
   "outputs": [],
   "source": [
    "%matplotlib inline\n",
    "\n",
    "import pandas as pd\n",
    "import numpy as np\n",
    "import matplotlib.pyplot as plt"
   ]
  },
  {
   "cell_type": "code",
   "execution_count": 2,
   "metadata": {
    "collapsed": false
   },
   "outputs": [
    {
     "name": "stdout",
     "output_type": "stream",
     "text": [
      "(1149082, 5)\n",
      "    Assession      X-mu        mu         X       std    zscore    pvalue  \\\n",
      "0  'P05661-3' -0.227329  0.902985  0.675656  0.052633 -4.319124  0.000008   \n",
      "1    'Q9VHS2' -0.210521  0.882477  0.671956  0.070654 -2.979597  0.001443   \n",
      "2    'A1Z9M2' -0.199726  0.862572  0.662846  0.070010 -2.852821  0.002167   \n",
      "3    'O44081' -0.164959  0.887575  0.722616  0.068446 -2.410070  0.007975   \n",
      "4    'Q0KHY3' -0.207974  0.925934  0.717959  0.087573 -2.374881  0.008777   \n",
      "\n",
      "   Fold Change  log pvalue  log Fold Change  log pvalue.1  \n",
      "0     0.748247   16.962097        -0.418413     16.962097  \n",
      "1     0.761443    9.436573        -0.393192      9.436573  \n",
      "2     0.768453    8.850318        -0.379971      8.850318  \n",
      "3     0.814146    6.970348        -0.296640      6.970348  \n",
      "4     0.775390    6.832005        -0.367007      6.832005  \n",
      "(111, 11)\n",
      "      gene       baseMean  log2FoldChange    lfcMLE     lfcSE       stat  \\\n",
      "0   CG4151  173781.895300        9.546780  9.940192  0.229635  41.573766   \n",
      "1  CG14062   20404.441370        9.452460  9.692031  0.181589  52.054226   \n",
      "2  CG33998   68576.641750        9.246952  9.931913  0.296434  31.193947   \n",
      "3  CG11406    1126.100922        6.296318  6.555076  0.226656  27.779221   \n",
      "4  CG10853  114516.930700        8.241811  8.939348  0.314470  26.208572   \n",
      "\n",
      "          pvalue           padj  \n",
      "0   0.000000e+00   0.000000e+00  \n",
      "1   0.000000e+00   0.000000e+00  \n",
      "2  1.290000e-213  5.520000e-210  \n",
      "3  7.730000e-170  2.490000e-166  \n",
      "4  2.120000e-151  5.460000e-148  \n",
      "(13918, 8)\n"
     ]
    }
   ],
   "source": [
    "#read in protein-gene match file (fbgn_NAseq_Uniprot_fb_2015_04.tsv.gz)\n",
    "pg_matches = pd.read_table(\"fbgn_NAseq_Uniprot_fb_2015_04.tsv\")\n",
    "pg_matches = pg_matches.rename(columns = {\"UniprotKB/Swiss-Prot/TrEMBL_accession\":\"protein\", \"gene_symbol\":\"gene\"})\n",
    "#read in sig protein file (pval <0.1)\n",
    "proteins = pd.read_csv(\"sig_proteins_0.1.csv\")\n",
    "#read in gene expression file (pval < 0.05)\n",
    "#transcripts = pd.read_csv(\"../DESeq2/deseq2_sig.05_3G1G.csv\")\n",
    "#read in all detected transcrips\n",
    "transcripts = pd.read_csv(\"../DESeq2/deseq2_degenes_3G1G.csv\")\n",
    "#check that files look correctprint(pg_matches.head())\n",
    "print(pg_matches.shape)\n",
    "print(proteins.head())\n",
    "print(proteins.shape)\n",
    "print(transcripts.head())\n",
    "print(transcripts.shape) "
   ]
  },
  {
   "cell_type": "code",
   "execution_count": 3,
   "metadata": {
    "collapsed": false
   },
   "outputs": [],
   "source": [
    "#"
   ]
  },
  {
   "cell_type": "code",
   "execution_count": 4,
   "metadata": {
    "collapsed": false
   },
   "outputs": [],
   "source": [
    "#clean up the significant proteins dataframe\n",
    "proteins['Assession'] = proteins['Assession'].map(lambda x: x.lstrip(\"'\").rstrip(\"'\"))\n",
    "proteins = proteins.rename(columns = {'Assession':'protein'})\n",
    "proteins.drop(proteins.columns[[1,2,3,4,5]], axis=1, inplace=True)"
   ]
  },
  {
   "cell_type": "code",
   "execution_count": 5,
   "metadata": {
    "collapsed": false
   },
   "outputs": [],
   "source": [
    "pg_matches.drop(pg_matches.columns[[1,2,3]], axis=1, inplace=True)"
   ]
  },
  {
   "cell_type": "code",
   "execution_count": 6,
   "metadata": {
    "collapsed": false
   },
   "outputs": [],
   "source": [
    "#match gene names to sig. proteins\n",
    "protein_data = pd.merge(proteins, pg_matches, how=\"left\", on=\"protein\")"
   ]
  },
  {
   "cell_type": "code",
   "execution_count": 7,
   "metadata": {
    "collapsed": false
   },
   "outputs": [
    {
     "name": "stdout",
     "output_type": "stream",
     "text": [
      "(112, 7)\n"
     ]
    },
    {
     "data": {
      "text/html": [
       "<div style=\"max-height:1000px;max-width:1500px;overflow:auto;\">\n",
       "<table border=\"1\" class=\"dataframe\">\n",
       "  <thead>\n",
       "    <tr style=\"text-align: right;\">\n",
       "      <th></th>\n",
       "      <th>protein</th>\n",
       "      <th>pvalue</th>\n",
       "      <th>Fold Change</th>\n",
       "      <th>log pvalue</th>\n",
       "      <th>log Fold Change</th>\n",
       "      <th>log pvalue.1</th>\n",
       "      <th>gene</th>\n",
       "    </tr>\n",
       "  </thead>\n",
       "  <tbody>\n",
       "    <tr>\n",
       "      <th>0</th>\n",
       "      <td> P05661-3</td>\n",
       "      <td> 0.000008</td>\n",
       "      <td> 0.748247</td>\n",
       "      <td> 16.962097</td>\n",
       "      <td>-0.418413</td>\n",
       "      <td> 16.962097</td>\n",
       "      <td>    NaN</td>\n",
       "    </tr>\n",
       "    <tr>\n",
       "      <th>1</th>\n",
       "      <td>   Q9VHS2</td>\n",
       "      <td> 0.001443</td>\n",
       "      <td> 0.761443</td>\n",
       "      <td>  9.436573</td>\n",
       "      <td>-0.393192</td>\n",
       "      <td>  9.436573</td>\n",
       "      <td>  COX7A</td>\n",
       "    </tr>\n",
       "    <tr>\n",
       "      <th>2</th>\n",
       "      <td>   A1Z9M2</td>\n",
       "      <td> 0.002167</td>\n",
       "      <td> 0.768453</td>\n",
       "      <td>  8.850318</td>\n",
       "      <td>-0.379971</td>\n",
       "      <td>  8.850318</td>\n",
       "      <td> CG8331</td>\n",
       "    </tr>\n",
       "    <tr>\n",
       "      <th>3</th>\n",
       "      <td>   O44081</td>\n",
       "      <td> 0.007975</td>\n",
       "      <td> 0.814146</td>\n",
       "      <td>  6.970348</td>\n",
       "      <td>-0.296640</td>\n",
       "      <td>  6.970348</td>\n",
       "      <td> Nop60B</td>\n",
       "    </tr>\n",
       "    <tr>\n",
       "      <th>4</th>\n",
       "      <td>   Q0KHY3</td>\n",
       "      <td> 0.008777</td>\n",
       "      <td> 0.775390</td>\n",
       "      <td>  6.832005</td>\n",
       "      <td>-0.367007</td>\n",
       "      <td>  6.832005</td>\n",
       "      <td>   mesh</td>\n",
       "    </tr>\n",
       "  </tbody>\n",
       "</table>\n",
       "</div>"
      ],
      "text/plain": [
       "    protein    pvalue  Fold Change  log pvalue  log Fold Change  log pvalue.1  \\\n",
       "0  P05661-3  0.000008     0.748247   16.962097        -0.418413     16.962097   \n",
       "1    Q9VHS2  0.001443     0.761443    9.436573        -0.393192      9.436573   \n",
       "2    A1Z9M2  0.002167     0.768453    8.850318        -0.379971      8.850318   \n",
       "3    O44081  0.007975     0.814146    6.970348        -0.296640      6.970348   \n",
       "4    Q0KHY3  0.008777     0.775390    6.832005        -0.367007      6.832005   \n",
       "\n",
       "     gene  \n",
       "0     NaN  \n",
       "1   COX7A  \n",
       "2  CG8331  \n",
       "3  Nop60B  \n",
       "4    mesh  "
      ]
     },
     "execution_count": 7,
     "metadata": {},
     "output_type": "execute_result"
    }
   ],
   "source": [
    "print(protein_data.shape)\n",
    "protein_data.head()"
   ]
  },
  {
   "cell_type": "code",
   "execution_count": 10,
   "metadata": {
    "collapsed": false
   },
   "outputs": [
    {
     "name": "stdout",
     "output_type": "stream",
     "text": [
      "Empty DataFrame\n",
      "Columns: [protein, pvalue, Fold Change, log pvalue, log Fold Change, log pvalue.1, gene]\n",
      "Index: []\n"
     ]
    }
   ],
   "source": [
    "#find proteins missing genes\n",
    "mask=False\n",
    "for col in protein_data.columns: mask = mask | protein_data['gene'].isnull()\n",
    "dfnulls = protein_data[mask]\n",
    "print(dfnulls)"
   ]
  },
  {
   "cell_type": "code",
   "execution_count": 9,
   "metadata": {
    "collapsed": false
   },
   "outputs": [
    {
     "name": "stdout",
     "output_type": "stream",
     "text": [
      "      protein    pvalue  Fold Change  log pvalue  log Fold Change  \\\n",
      "109  Q9VGX3-3  0.097916      0.77478    3.352314        -0.368142   \n",
      "\n",
      "     log pvalue.1 gene  \n",
      "109      3.352314  fau  \n"
     ]
    },
    {
     "data": {
      "text/html": [
       "<div style=\"max-height:1000px;max-width:1500px;overflow:auto;\">\n",
       "<table border=\"1\" class=\"dataframe\">\n",
       "  <thead>\n",
       "    <tr style=\"text-align: right;\">\n",
       "      <th></th>\n",
       "      <th>protein</th>\n",
       "      <th>pvalue</th>\n",
       "      <th>Fold Change</th>\n",
       "      <th>log pvalue</th>\n",
       "      <th>log Fold Change</th>\n",
       "      <th>log pvalue.1</th>\n",
       "      <th>gene</th>\n",
       "    </tr>\n",
       "  </thead>\n",
       "  <tbody>\n",
       "    <tr>\n",
       "      <th>0</th>\n",
       "      <td> P05661-3</td>\n",
       "      <td> 0.000008</td>\n",
       "      <td> 0.748247</td>\n",
       "      <td> 16.962097</td>\n",
       "      <td>-0.418413</td>\n",
       "      <td> 16.962097</td>\n",
       "      <td> Mhc</td>\n",
       "    </tr>\n",
       "  </tbody>\n",
       "</table>\n",
       "</div>"
      ],
      "text/plain": [
       "    protein    pvalue  Fold Change  log pvalue  log Fold Change  log pvalue.1  \\\n",
       "0  P05661-3  0.000008     0.748247   16.962097        -0.418413     16.962097   \n",
       "\n",
       "  gene  \n",
       "0  Mhc  "
      ]
     },
     "execution_count": 9,
     "metadata": {},
     "output_type": "execute_result"
    }
   ],
   "source": [
    "#add missing gene names and check locations\n",
    "protein_data.loc[109, 'gene']=\"fau\"\n",
    "print(protein_data[109:110])\n",
    "protein_data.loc[0, 'gene'] = \"Mhc\"\n",
    "protein_data[0:1]"
   ]
  },
  {
   "cell_type": "code",
   "execution_count": 11,
   "metadata": {
    "collapsed": false
   },
   "outputs": [
    {
     "data": {
      "text/plain": [
       "Index(['protein', 'pvalue', 'Fold Change', 'log pvalue', 'log Fold Change', 'log pvalue.1', 'gene'], dtype='object')"
      ]
     },
     "execution_count": 11,
     "metadata": {},
     "output_type": "execute_result"
    }
   ],
   "source": [
    "protein_data.columns"
   ]
  },
  {
   "cell_type": "code",
   "execution_count": 12,
   "metadata": {
    "collapsed": false
   },
   "outputs": [
    {
     "data": {
      "text/plain": [
       "Index(['gene', 'log2FoldChange', 'lfcMLE', 'lfcSE', 'pvalue', 'padj'], dtype='object')"
      ]
     },
     "execution_count": 12,
     "metadata": {},
     "output_type": "execute_result"
    }
   ],
   "source": [
    "transcripts.drop(transcripts.columns[[1,5]], axis=1, inplace=True)\n",
    "transcripts.columns"
   ]
  },
  {
   "cell_type": "code",
   "execution_count": 13,
   "metadata": {
    "collapsed": false
   },
   "outputs": [],
   "source": [
    "#add gene expression info\n",
    "sig_pandg = pd.merge(protein_data, transcripts, how='left', on='gene')"
   ]
  },
  {
   "cell_type": "code",
   "execution_count": null,
   "metadata": {
    "collapsed": false
   },
   "outputs": [],
   "source": [
    "sig_pandg"
   ]
  },
  {
   "cell_type": "code",
   "execution_count": 15,
   "metadata": {
    "collapsed": false
   },
   "outputs": [
    {
     "name": "stdout",
     "output_type": "stream",
     "text": [
      "(112, 12)\n"
     ]
    },
    {
     "data": {
      "text/html": [
       "<div style=\"max-height:1000px;max-width:1500px;overflow:auto;\">\n",
       "<table border=\"1\" class=\"dataframe\">\n",
       "  <thead>\n",
       "    <tr style=\"text-align: right;\">\n",
       "      <th></th>\n",
       "      <th>protein</th>\n",
       "      <th>pvalue_x</th>\n",
       "      <th>Fold Change</th>\n",
       "      <th>log pvalue</th>\n",
       "      <th>log Fold Change</th>\n",
       "      <th>log pvalue.1</th>\n",
       "      <th>gene</th>\n",
       "      <th>log2FoldChange</th>\n",
       "      <th>lfcMLE</th>\n",
       "      <th>lfcSE</th>\n",
       "      <th>pvalue_y</th>\n",
       "      <th>padj</th>\n",
       "    </tr>\n",
       "  </thead>\n",
       "  <tbody>\n",
       "  </tbody>\n",
       "</table>\n",
       "</div>"
      ],
      "text/plain": [
       "Empty DataFrame\n",
       "Columns: [protein, pvalue_x, Fold Change, log pvalue, log Fold Change, log pvalue.1, gene, log2FoldChange, lfcMLE, lfcSE, pvalue_y, padj]\n",
       "Index: []"
      ]
     },
     "execution_count": 15,
     "metadata": {},
     "output_type": "execute_result"
    }
   ],
   "source": [
    "print(sig_pandg.shape)\n",
    "for col in sig_pandg.columns: mask = mask | sig_pandg['gene'].isnull()\n",
    "dfnulls = sig_pandg[mask]\n",
    "dfnulls"
   ]
  },
  {
   "cell_type": "code",
   "execution_count": 16,
   "metadata": {
    "collapsed": false
   },
   "outputs": [],
   "source": [
    "#add functions from panther/ravi\n",
    "functions = pd.read_csv(\"../pathway_analysis/panther/all_functions.csv\")"
   ]
  },
  {
   "cell_type": "code",
   "execution_count": null,
   "metadata": {
    "collapsed": false
   },
   "outputs": [],
   "source": [
    "#functions"
   ]
  },
  {
   "cell_type": "code",
   "execution_count": 18,
   "metadata": {
    "collapsed": false
   },
   "outputs": [],
   "source": [
    "df = pd.merge(sig_pandg, functions, how=\"left\", on=\"gene\")"
   ]
  },
  {
   "cell_type": "code",
   "execution_count": 19,
   "metadata": {
    "collapsed": false
   },
   "outputs": [
    {
     "data": {
      "text/plain": [
       "Index(['protein', 'pvalue_x', 'Fold Change', 'log pvalue', 'log Fold Change', 'log pvalue.1', 'gene', 'log2FoldChange', 'lfcMLE_x', 'lfcSE_x', 'pvalue_y', 'padj_x', 'category', 'baseMean', 'log2FoldChange_y', 'lfcMLE_y', 'lfcSE_y', 'stat', 'pvalue', 'padj_y', 'Panther gene ID', 'Mapped ID_y', 'Gene Symbol', 'Panther family/subfamily', 'Panther protein class', 'GO database BP Complete_y', 'GO database MF Complete_y'], dtype='object')"
      ]
     },
     "execution_count": 19,
     "metadata": {},
     "output_type": "execute_result"
    }
   ],
   "source": [
    "df.columns"
   ]
  },
  {
   "cell_type": "code",
   "execution_count": null,
   "metadata": {
    "collapsed": false
   },
   "outputs": [],
   "source": []
  },
  {
   "cell_type": "code",
   "execution_count": 23,
   "metadata": {
    "collapsed": false
   },
   "outputs": [],
   "source": [
    "#Load Panther annotation for sig proteins. Merge with comparison dataframe.\n",
    "panther = pd.read_table('pantherGeneList.txt', header=None)\n",
    "panther.columns = ['gene_id','gene','gene_name','Panther_family','Panther_protein_class','PANTHER_GO-Slim_Molecular_Function','PANTHER_GO-Slim_Biological_Process','GO_database_MF_complete','GO_database_BP_complete']\n",
    "panther.head()\n",
    "protein_gene_functions = pd.merge(df, panther, how='left', on='gene')"
   ]
  },
  {
   "cell_type": "code",
   "execution_count": 39,
   "metadata": {
    "collapsed": false
   },
   "outputs": [],
   "source": [
    "#protein_gene_functions.to_csv(\"sigpro_allgene_comparison........csv\")\n",
    "#after this I manually added genes with different names, so don't overwrite!"
   ]
  },
  {
   "cell_type": "code",
   "execution_count": null,
   "metadata": {
    "collapsed": false
   },
   "outputs": [],
   "source": [
    "#Looking at correlation between protein and gene abundances (DE)\n",
    "new_cats = pd.read_csv(\"categories_only.csv\")\n",
    "#new_cats.head()"
   ]
  },
  {
   "cell_type": "code",
   "execution_count": null,
   "metadata": {
    "collapsed": false
   },
   "outputs": [],
   "source": [
    "#read in the necessary files, merge, remove extraneous columns\n",
    "pro_gene_comp = pd.read_csv(\"sigpro_allgene_comparison.csv\")"
   ]
  },
  {
   "cell_type": "code",
   "execution_count": 4,
   "metadata": {
    "collapsed": false
   },
   "outputs": [],
   "source": [
    "pg_comp = pd.merge(new_cats, pro_gene_comp, how=\"outer\", on=\"gene\")\n",
    "pg_comp.drop(pg_comp.columns[[12]], axis=1, inplace=True)\n",
    "pg_comp = pg_comp.rename(columns = {'category_x':'category'})"
   ]
  },
  {
   "cell_type": "code",
   "execution_count": 7,
   "metadata": {
    "collapsed": false
   },
   "outputs": [
    {
     "data": {
      "text/plain": [
       "Index([u'protein_x', u'gene', u'category', u'protein_y', u'protein_pvalue', u'protein_fold_change', u'protein_log2FoldChange', u'RNA_log2FoldChange', u'RNA_lfcMLE', u'RNA_lfcSE', u'RNA_pvalue', u'RNA_padj', u'gene_id', u'gene_name', u'Panther_family', u'Panther_protein_class', u'PANTHER_GO-Slim_Molecular_Function', u'PANTHER_GO-Slim_Biological_Process', u'GO_database_MF_complete', u'GO_database_BP_complete'], dtype='object')"
      ]
     },
     "execution_count": 7,
     "metadata": {},
     "output_type": "execute_result"
    }
   ],
   "source": [
    "#pg_comp.head()\n",
    "#pg_comp.shape\n",
    "#pg_comp.describe()\n",
    "pg_comp.columns\n",
    "#count_pgcomp = pd.Series(pg_comp[\"category\"])\n",
    "#cat_count = count_pgcomp.value_counts()\n",
    "#print(cat_count)"
   ]
  },
  {
   "cell_type": "code",
   "execution_count": 8,
   "metadata": {
    "collapsed": false
   },
   "outputs": [],
   "source": [
    "binding = pg_comp[(pg_comp['category'] == 'binding') & (pg_comp['RNA_padj'] < 0.1)]\n",
    "oxidoreductase = pg_comp[(pg_comp['category'] == 'oxidoreductase') & (pg_comp['RNA_padj'] < 0.1)]\n",
    "transport = pg_comp[(pg_comp['category'] == 'transport') & (pg_comp['RNA_padj'] < 0.1)]\n",
    "endopeptidase = pg_comp[(pg_comp['category'] == 'endopeptidase') & (pg_comp['RNA_padj'] < 0.1)]\n",
    "transferase = pg_comp[(pg_comp['category'] == 'transferase') & (pg_comp['RNA_padj'] < 0.1)]\n",
    "defense = pg_comp[(pg_comp['category'] == 'defense') & (pg_comp['RNA_padj'] < 0.1)]\n",
    "cuticle = pg_comp[(pg_comp['category'] == 'cuticle') & (pg_comp['RNA_padj'] < 0.1)]\n",
    "myosin = pg_comp[(pg_comp['category'] == 'myosin') & (pg_comp['RNA_padj'] < 0.1)]\n",
    "significant = pg_comp[pg_comp['RNA_padj'] < 0.1]"
   ]
  },
  {
   "cell_type": "code",
   "execution_count": 9,
   "metadata": {
    "collapsed": false
   },
   "outputs": [
    {
     "data": {
      "text/plain": [
       "['endopeptidase',\n",
       " 'binding',\n",
       " 'myosin',\n",
       " 'transferase',\n",
       " 'defense',\n",
       " 'oxidoreductase',\n",
       " 'cuticule',\n",
       " 'transport']"
      ]
     },
     "execution_count": 9,
     "metadata": {},
     "output_type": "execute_result"
    }
   ],
   "source": [
    "significant.groupby('category').groups.keys()"
   ]
  },
  {
   "cell_type": "code",
   "execution_count": null,
   "metadata": {
    "collapsed": false
   },
   "outputs": [],
   "source": [
    "significant[significant['category'] == 'defense']"
   ]
  },
  {
   "cell_type": "code",
   "execution_count": null,
   "metadata": {
    "collapsed": false
   },
   "outputs": [],
   "source": [
    "#significant.groupby('category').agg(['mean','count','std'])\n",
    "significant.groupby('category')[['protein_log2FoldChange','RNA_log2FoldChange']].corr(method='spearman')"
   ]
  },
  {
   "cell_type": "code",
   "execution_count": 78,
   "metadata": {
    "collapsed": false
   },
   "outputs": [],
   "source": [
    "spearman = pg_comp.groupby('category')[['protein_log2FoldChange','RNA_log2FoldChange']].corr(method='spearman')"
   ]
  },
  {
   "cell_type": "code",
   "execution_count": 79,
   "metadata": {
    "collapsed": false
   },
   "outputs": [],
   "source": [
    "pearson = pg_comp.groupby('category')[['protein_log2FoldChange','RNA_log2FoldChange']].corr(method='pearson')"
   ]
  },
  {
   "cell_type": "code",
   "execution_count": 83,
   "metadata": {
    "collapsed": false
   },
   "outputs": [],
   "source": [
    "spearman.to_csv('spearman.csv')\n",
    "pearson.to_csv('pearson.csv')"
   ]
  },
  {
   "cell_type": "code",
   "execution_count": null,
   "metadata": {
    "collapsed": false
   },
   "outputs": [],
   "source": [
    "significant.head()"
   ]
  },
  {
   "cell_type": "code",
   "execution_count": 54,
   "metadata": {
    "collapsed": false
   },
   "outputs": [],
   "source": [
    "spearsig = significant[['protein_log2FoldChange','RNA_log2FoldChange']].corr(method='spearman')"
   ]
  },
  {
   "cell_type": "code",
   "execution_count": null,
   "metadata": {
    "collapsed": false
   },
   "outputs": [],
   "source": [
    "plt.matshow(significant.corr())"
   ]
  },
  {
   "cell_type": "code",
   "execution_count": null,
   "metadata": {
    "collapsed": false
   },
   "outputs": [],
   "source": [
    "fold_change_plot = significant.plot(kind='scatter', x='RNA_log2FoldChange', y='protein_log2FoldChange', title=\"Protein-RNA Differential Expression, p < 0.1\")\n",
    "fold_change_plot.set_xlabel(\"RNA log 2 fold change\")\n",
    "fold_change_plot.set_ylabel(\"Protein log 2 fold change\")"
   ]
  },
  {
   "cell_type": "code",
   "execution_count": null,
   "metadata": {
    "collapsed": true
   },
   "outputs": [],
   "source": []
  }
 ],
 "metadata": {
  "kernelspec": {
   "display_name": "Python 2",
   "language": "python",
   "name": "python2"
  },
  "language_info": {
   "codemirror_mode": {
    "name": "ipython",
    "version": 2
   },
   "file_extension": ".py",
   "mimetype": "text/x-python",
   "name": "python",
   "nbconvert_exporter": "python",
   "pygments_lexer": "ipython2",
   "version": "2.7.10"
  }
 },
 "nbformat": 4,
 "nbformat_minor": 0
}
